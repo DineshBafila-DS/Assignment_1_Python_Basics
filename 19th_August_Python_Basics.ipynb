{
 "cells": [
  {
   "cell_type": "markdown",
   "id": "d2588423",
   "metadata": {},
   "source": [
    "# TOPIC: Python Basics Variable"
   ]
  },
  {
   "cell_type": "markdown",
   "id": "f1a98a72",
   "metadata": {},
   "source": [
    "Q1. Declare two variables, `x` and `y`, and assign them integer values. Swap the values of these variables without using any temporary variable."
   ]
  },
  {
   "cell_type": "code",
   "execution_count": 6,
   "id": "44525014",
   "metadata": {},
   "outputs": [
    {
     "name": "stdout",
     "output_type": "stream",
     "text": [
      "The value of x is: 10  and the value of y is: 20 before swap\n",
      "The value of x is: 20  and the value of y is: 10 after swap witgout using any temporary variable\n"
     ]
    }
   ],
   "source": [
    "x=10\n",
    "y=20\n",
    "print(\"The value of x is:\",x,\" and the value of y is:\",y, \"before swap\")\n",
    "x,y=y,x\n",
    "print(\"The value of x is:\",x,\" and the value of y is:\",y, \"after swap witgout using any temporary variable\")"
   ]
  },
  {
   "cell_type": "markdown",
   "id": "bb99eb36",
   "metadata": {},
   "source": [
    "Q2.Create a program that calculates the area of a rectangle. Take the length and width as inputs from the user and store them in variables. Calculate and display the area."
   ]
  },
  {
   "cell_type": "code",
   "execution_count": 9,
   "id": "79b27b2e",
   "metadata": {},
   "outputs": [
    {
     "name": "stdout",
     "output_type": "stream",
     "text": [
      "Enter the length of the rectangle12\n",
      "Enter the width of the rectangle12\n",
      "Area of the rectangle is: 144.0 square unit\n"
     ]
    }
   ],
   "source": [
    "l=float(input(\"Enter the length of the rectangle\"))\n",
    "w=float(input(\"Enter the width of the rectangle\"))\n",
    "Area=l*w\n",
    "print(\"Area of the rectangle is:\",Area,\"square unit\")"
   ]
  },
  {
   "cell_type": "markdown",
   "id": "c09cbdb2",
   "metadata": {},
   "source": [
    "Q3. Write a Python program that converts temperatures from Celsius to Fahrenheit. Take the temperature in Celsius as input, store it in a variable,convert it to Fahrenheit, and display the result."
   ]
  },
  {
   "cell_type": "code",
   "execution_count": 10,
   "id": "4b5a3f7d",
   "metadata": {},
   "outputs": [
    {
     "name": "stdout",
     "output_type": "stream",
     "text": [
      "Enter the Temperature in Celsius :\n",
      "13\n",
      "Temperature in Fahrenheit : 55.400000000000006\n"
     ]
    }
   ],
   "source": [
    "celsius = int(input(\"Enter the Temperature in Celsius :\\n\"))\n",
    "fahrenheit = (1.8 * celsius) + 32\n",
    "print(\"Temperature in Fahrenheit :\", fahrenheit)"
   ]
  },
  {
   "cell_type": "markdown",
   "id": "9000d415",
   "metadata": {},
   "source": [
    "# TOPIC: String Based Questions"
   ]
  },
  {
   "cell_type": "markdown",
   "id": "d4dc49e8",
   "metadata": {},
   "source": [
    "Q1: Write a Python program that takes a string as input and prints the length of the string."
   ]
  },
  {
   "cell_type": "code",
   "execution_count": 14,
   "id": "7eec8b0f",
   "metadata": {},
   "outputs": [
    {
     "name": "stdout",
     "output_type": "stream",
     "text": [
      "Enter a string: hdgdsjksbk sjsbjksb\n",
      "The length of the given string is: 19\n"
     ]
    }
   ],
   "source": [
    "s=input(\"Enter a string: \")\n",
    "print(\"The length of the given string is:\",len(s))"
   ]
  },
  {
   "cell_type": "markdown",
   "id": "34b62b83",
   "metadata": {},
   "source": [
    "Q2. Create a program that takes a sentence from the user and counts the number of vowels (a, e, i, o, u) in the string."
   ]
  },
  {
   "cell_type": "code",
   "execution_count": 19,
   "id": "3a1585f2",
   "metadata": {},
   "outputs": [
    {
     "name": "stdout",
     "output_type": "stream",
     "text": [
      "Enter a sentence: Hello Python\n",
      "Number of vowels in the given sentence are: 3\n"
     ]
    }
   ],
   "source": [
    "count=0\n",
    "b=['a','e','i','o','u']\n",
    "a=input(\"Enter a sentence: \")\n",
    "for i in a:\n",
    "    if i in b:\n",
    "        count=count+1\n",
    "    else:\n",
    "        continue\n",
    "print(\"Number of vowels in the given sentence are:\",count)"
   ]
  },
  {
   "cell_type": "markdown",
   "id": "5488290a",
   "metadata": {},
   "source": [
    "Q3: Given a string, reverse the order of characters using string slicing and print the reversed string."
   ]
  },
  {
   "cell_type": "code",
   "execution_count": 21,
   "id": "d8e6ccbe",
   "metadata": {},
   "outputs": [
    {
     "name": "stdout",
     "output_type": "stream",
     "text": [
      "Enter a stringHello\n",
      "The reverse of the given string is:  olleH\n"
     ]
    }
   ],
   "source": [
    "str=input(\"Enter a string\")\n",
    "print(\"The reverse of the given string is: \", str[::-1])"
   ]
  },
  {
   "cell_type": "markdown",
   "id": "75464d65",
   "metadata": {},
   "source": [
    "Q4: Write a program that takes a string as input and checks if it is a palindrome (reads the same forwards and backwards)."
   ]
  },
  {
   "cell_type": "code",
   "execution_count": 5,
   "id": "acf368b7",
   "metadata": {},
   "outputs": [
    {
     "name": "stdout",
     "output_type": "stream",
     "text": [
      "enter a stringmalayalam\n",
      "malayalam is palindrome\n"
     ]
    }
   ],
   "source": [
    "s1=input(\"enter a string\")\n",
    "if(s1==s1[::-1]):\n",
    "    print(s1,\"is palindrome\")\n",
    "else:\n",
    "    print(s1,\"is not a plaindrome\")"
   ]
  },
  {
   "cell_type": "markdown",
   "id": "feadfdd3",
   "metadata": {},
   "source": [
    "Q5: Create a program that takes a string as input and removes all the spaces from it. Print the modified string without spaces."
   ]
  },
  {
   "cell_type": "code",
   "execution_count": 15,
   "id": "f9860830",
   "metadata": {},
   "outputs": [
    {
     "name": "stdout",
     "output_type": "stream",
     "text": [
      "Enter a string: Hello Python\n",
      "String after removing the white spaces: HelloPython\n"
     ]
    }
   ],
   "source": [
    "s2=input(\"Enter a string: \")\n",
    "s3=s2.replace(\" \",\"\")\n",
    "print(\"String after removing the white spaces:\",s3)"
   ]
  },
  {
   "cell_type": "code",
   "execution_count": null,
   "id": "51ca661d",
   "metadata": {},
   "outputs": [],
   "source": []
  }
 ],
 "metadata": {
  "kernelspec": {
   "display_name": "Python 3 (ipykernel)",
   "language": "python",
   "name": "python3"
  },
  "language_info": {
   "codemirror_mode": {
    "name": "ipython",
    "version": 3
   },
   "file_extension": ".py",
   "mimetype": "text/x-python",
   "name": "python",
   "nbconvert_exporter": "python",
   "pygments_lexer": "ipython3",
   "version": "3.9.13"
  }
 },
 "nbformat": 4,
 "nbformat_minor": 5
}
